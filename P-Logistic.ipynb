{
 "cells": [
  {
   "cell_type": "markdown",
   "id": "7355d09c-bc2a-4610-b174-784133d30c7f",
   "metadata": {},
   "source": [
    "# Kidney Stone Prediction"
   ]
  },
  {
   "cell_type": "markdown",
   "id": "8dd58996-8399-4e31-938b-58bdd824df3e",
   "metadata": {},
   "source": [
    "We use Logistic regression estimates the probability of an event occurring, such as voted or didn’t vote, based on a given dataset of independent variables. Since the outcome is a probability, the dependent variable is bounded between 0 and 1. In this case if a person has kidney stone or not. "
   ]
  },
  {
   "cell_type": "markdown",
   "id": "071ec999-7500-4dd6-9632-dcc3dcd2a166",
   "metadata": {},
   "source": [
    "### Aim"
   ]
  },
  {
   "cell_type": "markdown",
   "id": "8f9b49cd-df90-4d93-806b-260fc65930e7",
   "metadata": {},
   "source": [
    "To analyze the data and then modelize the kidney stones based on the features given in the dataset. This case is binary logistic regression, as the result can be only 0 or 1."
   ]
  },
  {
   "cell_type": "markdown",
   "id": "f58daed2-4cef-4dca-ab99-90771e3d5d7a",
   "metadata": {},
   "source": [
    "### Data"
   ]
  },
  {
   "cell_type": "markdown",
   "id": "ad1d9795-db13-41e8-8f87-2714711d2c66",
   "metadata": {},
   "source": [
    "This dataset can be used to predict the presence of kidney stones based on urine analysis.\n",
    "\n",
    "The 79 urine specimens, were analyzed in an effort to determine if certain physical characteristics of the urine might be related to the formation of calcium oxalate crystals.\n",
    "\n",
    "**The six physical characteristics of the urine are:**\n",
    "\n",
    "**specific gravity:** the density of the urine relative to water.\n",
    "\n",
    "**pH:** The negative logarithm of the hydrogen ion.\n",
    "\n",
    "**osmolarity (mOsm):** A unit used in biology and medicine but not in physical chemistry. Osmolarity is proportional to the concentration of molecules in solution.\n",
    "\n",
    "**conductivity (mMho milliMho):** One Mho is one reciprocal Ohm. Conductivity is proportional to the concentration of charged ions in solution.\n",
    "\n",
    "**urea:** Urea concentration in millimoles per litre.\n",
    "\n",
    "**CALC:** Calcium concentration in millimolesllitre.\n",
    "\n",
    "The data used in this projected was extracted from kaggle.com.\n",
    "https://www.kaggle.com/datasets/vuppalaadithyasairam/kidney-stone-prediction-based-on-urine-analysis"
   ]
  },
  {
   "cell_type": "markdown",
   "id": "6ed3315d-35fe-4f0c-aef7-ba3b1a88667a",
   "metadata": {},
   "source": [
    "path = '/kaggle/input/kidney-stone-prediction-based-on-urine-analysis/kindey stone urine analysis.csv'"
   ]
  },
  {
   "cell_type": "markdown",
   "id": "a35b0418-a22d-4fa1-aaae-7d09d2fd1a52",
   "metadata": {
    "tags": []
   },
   "source": [
    "### Libraries Used"
   ]
  },
  {
   "cell_type": "code",
   "execution_count": 67,
   "id": "aef68c50-e55e-4a41-8464-b05a37d388e4",
   "metadata": {
    "collapsed": true,
    "jupyter": {
     "outputs_hidden": true
    },
    "tags": []
   },
   "outputs": [
    {
     "name": "stdout",
     "output_type": "stream",
     "text": [
      "Requirement already satisfied: imbalanced-learn in /Users/nazafarin/opt/anaconda3/lib/python3.9/site-packages (0.10.1)\n",
      "Requirement already satisfied: numpy>=1.17.3 in /Users/nazafarin/opt/anaconda3/lib/python3.9/site-packages (from imbalanced-learn) (1.22.4)\n",
      "Requirement already satisfied: scipy>=1.3.2 in /Users/nazafarin/opt/anaconda3/lib/python3.9/site-packages (from imbalanced-learn) (1.7.3)\n",
      "Requirement already satisfied: scikit-learn>=1.0.2 in /Users/nazafarin/opt/anaconda3/lib/python3.9/site-packages (from imbalanced-learn) (1.0.2)\n",
      "Requirement already satisfied: joblib>=1.1.1 in /Users/nazafarin/opt/anaconda3/lib/python3.9/site-packages (from imbalanced-learn) (1.2.0)\n",
      "Requirement already satisfied: threadpoolctl>=2.0.0 in /Users/nazafarin/opt/anaconda3/lib/python3.9/site-packages (from imbalanced-learn) (2.2.0)\n"
     ]
    }
   ],
   "source": [
    "!pip install imbalanced-learn"
   ]
  },
  {
   "cell_type": "code",
   "execution_count": 68,
   "id": "c8557536-2341-4258-aedf-23e3657cf752",
   "metadata": {
    "collapsed": true,
    "jupyter": {
     "outputs_hidden": true
    },
    "tags": []
   },
   "outputs": [
    {
     "name": "stdout",
     "output_type": "stream",
     "text": [
      "Requirement already satisfied: numpy in /Users/nazafarin/opt/anaconda3/lib/python3.9/site-packages (1.22.4)\n",
      "\u001b[31mERROR: Could not find a version that satisfies the requirement as (from versions: none)\u001b[0m\u001b[31m\n",
      "\u001b[0m\u001b[31mERROR: No matching distribution found for as\u001b[0m\u001b[31m\n",
      "\u001b[0mRequirement already satisfied: tensorflow in /Users/nazafarin/opt/anaconda3/lib/python3.9/site-packages (2.12.0)\n",
      "Requirement already satisfied: absl-py>=1.0.0 in /Users/nazafarin/opt/anaconda3/lib/python3.9/site-packages (from tensorflow) (1.4.0)\n",
      "Requirement already satisfied: astunparse>=1.6.0 in /Users/nazafarin/opt/anaconda3/lib/python3.9/site-packages (from tensorflow) (1.6.3)\n",
      "Requirement already satisfied: flatbuffers>=2.0 in /Users/nazafarin/opt/anaconda3/lib/python3.9/site-packages (from tensorflow) (23.3.3)\n",
      "Requirement already satisfied: gast<=0.4.0,>=0.2.1 in /Users/nazafarin/opt/anaconda3/lib/python3.9/site-packages (from tensorflow) (0.4.0)\n",
      "Requirement already satisfied: google-pasta>=0.1.1 in /Users/nazafarin/opt/anaconda3/lib/python3.9/site-packages (from tensorflow) (0.2.0)\n",
      "Requirement already satisfied: h5py>=2.9.0 in /Users/nazafarin/opt/anaconda3/lib/python3.9/site-packages (from tensorflow) (3.6.0)\n",
      "Requirement already satisfied: jax>=0.3.15 in /Users/nazafarin/opt/anaconda3/lib/python3.9/site-packages (from tensorflow) (0.4.8)\n",
      "Requirement already satisfied: libclang>=13.0.0 in /Users/nazafarin/opt/anaconda3/lib/python3.9/site-packages (from tensorflow) (16.0.0)\n",
      "Requirement already satisfied: numpy<1.24,>=1.22 in /Users/nazafarin/opt/anaconda3/lib/python3.9/site-packages (from tensorflow) (1.22.4)\n",
      "Requirement already satisfied: opt-einsum>=2.3.2 in /Users/nazafarin/opt/anaconda3/lib/python3.9/site-packages (from tensorflow) (3.3.0)\n",
      "Requirement already satisfied: packaging in /Users/nazafarin/opt/anaconda3/lib/python3.9/site-packages (from tensorflow) (21.3)\n",
      "Requirement already satisfied: protobuf!=4.21.0,!=4.21.1,!=4.21.2,!=4.21.3,!=4.21.4,!=4.21.5,<5.0.0dev,>=3.20.3 in /Users/nazafarin/opt/anaconda3/lib/python3.9/site-packages (from tensorflow) (4.22.3)\n",
      "Requirement already satisfied: setuptools in /Users/nazafarin/opt/anaconda3/lib/python3.9/site-packages (from tensorflow) (61.2.0)\n",
      "Requirement already satisfied: six>=1.12.0 in /Users/nazafarin/opt/anaconda3/lib/python3.9/site-packages (from tensorflow) (1.16.0)\n",
      "Requirement already satisfied: termcolor>=1.1.0 in /Users/nazafarin/opt/anaconda3/lib/python3.9/site-packages (from tensorflow) (2.2.0)\n",
      "Requirement already satisfied: typing-extensions>=3.6.6 in /Users/nazafarin/opt/anaconda3/lib/python3.9/site-packages (from tensorflow) (4.1.1)\n",
      "Requirement already satisfied: wrapt<1.15,>=1.11.0 in /Users/nazafarin/opt/anaconda3/lib/python3.9/site-packages (from tensorflow) (1.12.1)\n",
      "Requirement already satisfied: grpcio<2.0,>=1.24.3 in /Users/nazafarin/opt/anaconda3/lib/python3.9/site-packages (from tensorflow) (1.54.0)\n",
      "Requirement already satisfied: tensorboard<2.13,>=2.12 in /Users/nazafarin/opt/anaconda3/lib/python3.9/site-packages (from tensorflow) (2.12.2)\n",
      "Requirement already satisfied: tensorflow-estimator<2.13,>=2.12.0 in /Users/nazafarin/opt/anaconda3/lib/python3.9/site-packages (from tensorflow) (2.12.0)\n",
      "Requirement already satisfied: keras<2.13,>=2.12.0 in /Users/nazafarin/opt/anaconda3/lib/python3.9/site-packages (from tensorflow) (2.12.0)\n",
      "Requirement already satisfied: tensorflow-io-gcs-filesystem>=0.23.1 in /Users/nazafarin/opt/anaconda3/lib/python3.9/site-packages (from tensorflow) (0.32.0)\n",
      "Requirement already satisfied: wheel<1.0,>=0.23.0 in /Users/nazafarin/opt/anaconda3/lib/python3.9/site-packages (from astunparse>=1.6.0->tensorflow) (0.37.1)\n",
      "Requirement already satisfied: ml-dtypes>=0.0.3 in /Users/nazafarin/opt/anaconda3/lib/python3.9/site-packages (from jax>=0.3.15->tensorflow) (0.1.0)\n",
      "Requirement already satisfied: scipy>=1.7 in /Users/nazafarin/opt/anaconda3/lib/python3.9/site-packages (from jax>=0.3.15->tensorflow) (1.7.3)\n",
      "Requirement already satisfied: google-auth<3,>=1.6.3 in /Users/nazafarin/opt/anaconda3/lib/python3.9/site-packages (from tensorboard<2.13,>=2.12->tensorflow) (2.17.3)\n",
      "Requirement already satisfied: google-auth-oauthlib<1.1,>=0.5 in /Users/nazafarin/opt/anaconda3/lib/python3.9/site-packages (from tensorboard<2.13,>=2.12->tensorflow) (1.0.0)\n",
      "Requirement already satisfied: markdown>=2.6.8 in /Users/nazafarin/opt/anaconda3/lib/python3.9/site-packages (from tensorboard<2.13,>=2.12->tensorflow) (3.3.4)\n",
      "Requirement already satisfied: requests<3,>=2.21.0 in /Users/nazafarin/opt/anaconda3/lib/python3.9/site-packages (from tensorboard<2.13,>=2.12->tensorflow) (2.27.1)\n",
      "Requirement already satisfied: tensorboard-data-server<0.8.0,>=0.7.0 in /Users/nazafarin/opt/anaconda3/lib/python3.9/site-packages (from tensorboard<2.13,>=2.12->tensorflow) (0.7.0)\n",
      "Requirement already satisfied: tensorboard-plugin-wit>=1.6.0 in /Users/nazafarin/opt/anaconda3/lib/python3.9/site-packages (from tensorboard<2.13,>=2.12->tensorflow) (1.8.1)\n",
      "Requirement already satisfied: werkzeug>=1.0.1 in /Users/nazafarin/opt/anaconda3/lib/python3.9/site-packages (from tensorboard<2.13,>=2.12->tensorflow) (2.0.3)\n",
      "Requirement already satisfied: pyparsing!=3.0.5,>=2.0.2 in /Users/nazafarin/opt/anaconda3/lib/python3.9/site-packages (from packaging->tensorflow) (3.0.4)\n",
      "Requirement already satisfied: cachetools<6.0,>=2.0.0 in /Users/nazafarin/opt/anaconda3/lib/python3.9/site-packages (from google-auth<3,>=1.6.3->tensorboard<2.13,>=2.12->tensorflow) (4.2.2)\n",
      "Requirement already satisfied: pyasn1-modules>=0.2.1 in /Users/nazafarin/opt/anaconda3/lib/python3.9/site-packages (from google-auth<3,>=1.6.3->tensorboard<2.13,>=2.12->tensorflow) (0.2.8)\n",
      "Requirement already satisfied: rsa<5,>=3.1.4 in /Users/nazafarin/opt/anaconda3/lib/python3.9/site-packages (from google-auth<3,>=1.6.3->tensorboard<2.13,>=2.12->tensorflow) (4.7.2)\n",
      "Requirement already satisfied: requests-oauthlib>=0.7.0 in /Users/nazafarin/opt/anaconda3/lib/python3.9/site-packages (from google-auth-oauthlib<1.1,>=0.5->tensorboard<2.13,>=2.12->tensorflow) (1.3.1)\n",
      "Requirement already satisfied: urllib3<1.27,>=1.21.1 in /Users/nazafarin/opt/anaconda3/lib/python3.9/site-packages (from requests<3,>=2.21.0->tensorboard<2.13,>=2.12->tensorflow) (1.26.9)\n",
      "Requirement already satisfied: certifi>=2017.4.17 in /Users/nazafarin/opt/anaconda3/lib/python3.9/site-packages (from requests<3,>=2.21.0->tensorboard<2.13,>=2.12->tensorflow) (2022.12.7)\n",
      "Requirement already satisfied: charset-normalizer~=2.0.0 in /Users/nazafarin/opt/anaconda3/lib/python3.9/site-packages (from requests<3,>=2.21.0->tensorboard<2.13,>=2.12->tensorflow) (2.0.4)\n",
      "Requirement already satisfied: idna<4,>=2.5 in /Users/nazafarin/opt/anaconda3/lib/python3.9/site-packages (from requests<3,>=2.21.0->tensorboard<2.13,>=2.12->tensorflow) (3.3)\n",
      "Requirement already satisfied: pyasn1<0.5.0,>=0.4.6 in /Users/nazafarin/opt/anaconda3/lib/python3.9/site-packages (from pyasn1-modules>=0.2.1->google-auth<3,>=1.6.3->tensorboard<2.13,>=2.12->tensorflow) (0.4.8)\n",
      "Requirement already satisfied: oauthlib>=3.0.0 in /Users/nazafarin/opt/anaconda3/lib/python3.9/site-packages (from requests-oauthlib>=0.7.0->google-auth-oauthlib<1.1,>=0.5->tensorboard<2.13,>=2.12->tensorflow) (3.2.2)\n",
      "Requirement already satisfied: keras in /Users/nazafarin/opt/anaconda3/lib/python3.9/site-packages (2.12.0)\n"
     ]
    },
    {
     "ename": "ModuleNotFoundError",
     "evalue": "No module named 'sequential_executor'",
     "output_type": "error",
     "traceback": [
      "\u001b[0;31m---------------------------------------------------------------------------\u001b[0m",
      "\u001b[0;31mModuleNotFoundError\u001b[0m                       Traceback (most recent call last)",
      "Input \u001b[0;32mIn [68]\u001b[0m, in \u001b[0;36m<cell line: 52>\u001b[0;34m()\u001b[0m\n\u001b[1;32m     49\u001b[0m \u001b[38;5;28;01mimport\u001b[39;00m \u001b[38;5;21;01mconcurrent\u001b[39;00m\u001b[38;5;21;01m.\u001b[39;00m\u001b[38;5;21;01mfutures\u001b[39;00m\n\u001b[1;32m     50\u001b[0m \u001b[38;5;28;01mimport\u001b[39;00m \u001b[38;5;21;01murllib\u001b[39;00m\u001b[38;5;21;01m.\u001b[39;00m\u001b[38;5;21;01mrequest\u001b[39;00m\n\u001b[0;32m---> 52\u001b[0m \u001b[38;5;28;01mimport\u001b[39;00m \u001b[38;5;21;01msequential_executor\u001b[39;00m\n\u001b[1;32m     54\u001b[0m \u001b[38;5;28;01mimport\u001b[39;00m \u001b[38;5;21;01mkeras\u001b[39;00m\n\u001b[1;32m     55\u001b[0m \u001b[38;5;28;01mimport\u001b[39;00m \u001b[38;5;21;01mtensorflow\u001b[39;00m \u001b[38;5;28;01mas\u001b[39;00m \u001b[38;5;21;01mtf\u001b[39;00m\n",
      "\u001b[0;31mModuleNotFoundError\u001b[0m: No module named 'sequential_executor'"
     ]
    }
   ],
   "source": [
    "# make neccessary imports\n",
    "!pip install numpy as np\n",
    "import matplotlib.pyplot as plt\n",
    "import numpy as np\n",
    "from sklearn.linear_model import LogisticRegression\n",
    "from sklearn.metrics import classification_report, confusion_matrix\n",
    "import pandas as pd\n",
    "import glob\n",
    "from sklearn.model_selection import train_test_split\n",
    "from sklearn.preprocessing import LabelEncoder,MinMaxScaler\n",
    "import matplotlib.pyplot as plt\n",
    "import seaborn as sns\n",
    "import os, sys\n",
    "from sklearn.metrics import accuracy_score \n",
    "from sklearn.impute import  SimpleImputer\n",
    "#from Collections import Counter\n",
    "\n",
    "!pip install tensorflow\n",
    "!pip install keras\n",
    "\n",
    "from keras.layers import LSTM, Dense\n",
    "from keras.models import Sequential\n",
    "\n",
    "from tensorflow.python.keras.layers import LSTM, Dense\n",
    "from tensorflow.python.keras.models import Sequential\n",
    "\n",
    "from keras.layers import LSTM, Dense\n",
    "from keras.models import Sequential\n",
    "\n",
    "from keras.layers import Dense, Dropout, Activation, Flatten\n",
    "\n",
    "from keras.layers import Convolution2D, MaxPooling2D\n",
    "from keras.utils import np_utils\n",
    "\n",
    "from keras.datasets import mnist\n",
    "\n",
    "from matplotlib import pyplot as plt\n",
    "\n",
    "# 3. Import libraries and modules\n",
    "import numpy as np\n",
    "np.random.seed(123)  # for reproducibility\n",
    " \n",
    "from keras.models import Sequential\n",
    "from keras.layers import Dense, Dropout, Activation, Flatten\n",
    "from keras.layers import Convolution2D, MaxPooling2D\n",
    "from keras.utils import np_utils\n",
    "from keras.datasets import mnist\n",
    "\n",
    "import concurrent.futures\n",
    "import urllib.request\n",
    "\n",
    "import sequential_executor\n",
    "\n",
    "import keras\n",
    "import tensorflow as tf\n",
    "import pathlib\n",
    "import os\n",
    "import matplotlib.pyplot as plt\n",
    "import pandas as pd\n",
    "import numpy as np\n",
    "\n",
    "np.set_printoptions(precision=4)\n",
    "# a sequential model is appropriate for plain stack of layers where each of layers has one input tensor and one output tensor. \n",
    "from keras.models import sequential\n",
    "\n",
    "from keras.layers import Dense\n",
    "\n",
    "from keras.layers import Dropout\n",
    "\n",
    "from keras.callback import ModelCheckpoint, EarlyStopping\n",
    "from keras.model import Sequential, Model"
   ]
  },
  {
   "cell_type": "markdown",
   "id": "4313ceec-2e36-4e6f-b358-010686444e7f",
   "metadata": {},
   "source": [
    "### Loading the Data"
   ]
  },
  {
   "cell_type": "code",
   "execution_count": 69,
   "id": "d571eb9f-441c-4bcb-9e4f-d00a20c5dae0",
   "metadata": {
    "tags": []
   },
   "outputs": [
    {
     "data": {
      "text/html": [
       "<div>\n",
       "<style scoped>\n",
       "    .dataframe tbody tr th:only-of-type {\n",
       "        vertical-align: middle;\n",
       "    }\n",
       "\n",
       "    .dataframe tbody tr th {\n",
       "        vertical-align: top;\n",
       "    }\n",
       "\n",
       "    .dataframe thead th {\n",
       "        text-align: right;\n",
       "    }\n",
       "</style>\n",
       "<table border=\"1\" class=\"dataframe\">\n",
       "  <thead>\n",
       "    <tr style=\"text-align: right;\">\n",
       "      <th></th>\n",
       "      <th>gravity</th>\n",
       "      <th>ph</th>\n",
       "      <th>osmo</th>\n",
       "      <th>cond</th>\n",
       "      <th>urea</th>\n",
       "      <th>calc</th>\n",
       "      <th>target</th>\n",
       "    </tr>\n",
       "  </thead>\n",
       "  <tbody>\n",
       "    <tr>\n",
       "      <th>0</th>\n",
       "      <td>1.021</td>\n",
       "      <td>4.91</td>\n",
       "      <td>725</td>\n",
       "      <td>14.0</td>\n",
       "      <td>443</td>\n",
       "      <td>2.45</td>\n",
       "      <td>0</td>\n",
       "    </tr>\n",
       "    <tr>\n",
       "      <th>1</th>\n",
       "      <td>1.017</td>\n",
       "      <td>5.74</td>\n",
       "      <td>577</td>\n",
       "      <td>20.0</td>\n",
       "      <td>296</td>\n",
       "      <td>4.49</td>\n",
       "      <td>0</td>\n",
       "    </tr>\n",
       "    <tr>\n",
       "      <th>2</th>\n",
       "      <td>1.008</td>\n",
       "      <td>7.20</td>\n",
       "      <td>321</td>\n",
       "      <td>14.9</td>\n",
       "      <td>101</td>\n",
       "      <td>2.36</td>\n",
       "      <td>0</td>\n",
       "    </tr>\n",
       "    <tr>\n",
       "      <th>3</th>\n",
       "      <td>1.011</td>\n",
       "      <td>5.51</td>\n",
       "      <td>408</td>\n",
       "      <td>12.6</td>\n",
       "      <td>224</td>\n",
       "      <td>2.15</td>\n",
       "      <td>0</td>\n",
       "    </tr>\n",
       "    <tr>\n",
       "      <th>4</th>\n",
       "      <td>1.005</td>\n",
       "      <td>6.52</td>\n",
       "      <td>187</td>\n",
       "      <td>7.5</td>\n",
       "      <td>91</td>\n",
       "      <td>1.16</td>\n",
       "      <td>0</td>\n",
       "    </tr>\n",
       "    <tr>\n",
       "      <th>...</th>\n",
       "      <td>...</td>\n",
       "      <td>...</td>\n",
       "      <td>...</td>\n",
       "      <td>...</td>\n",
       "      <td>...</td>\n",
       "      <td>...</td>\n",
       "      <td>...</td>\n",
       "    </tr>\n",
       "    <tr>\n",
       "      <th>74</th>\n",
       "      <td>1.025</td>\n",
       "      <td>7.90</td>\n",
       "      <td>721</td>\n",
       "      <td>23.6</td>\n",
       "      <td>301</td>\n",
       "      <td>9.04</td>\n",
       "      <td>1</td>\n",
       "    </tr>\n",
       "    <tr>\n",
       "      <th>75</th>\n",
       "      <td>1.017</td>\n",
       "      <td>4.81</td>\n",
       "      <td>410</td>\n",
       "      <td>13.3</td>\n",
       "      <td>195</td>\n",
       "      <td>0.58</td>\n",
       "      <td>1</td>\n",
       "    </tr>\n",
       "    <tr>\n",
       "      <th>76</th>\n",
       "      <td>1.024</td>\n",
       "      <td>5.40</td>\n",
       "      <td>803</td>\n",
       "      <td>21.8</td>\n",
       "      <td>394</td>\n",
       "      <td>7.82</td>\n",
       "      <td>1</td>\n",
       "    </tr>\n",
       "    <tr>\n",
       "      <th>77</th>\n",
       "      <td>1.016</td>\n",
       "      <td>6.81</td>\n",
       "      <td>594</td>\n",
       "      <td>21.4</td>\n",
       "      <td>255</td>\n",
       "      <td>12.20</td>\n",
       "      <td>1</td>\n",
       "    </tr>\n",
       "    <tr>\n",
       "      <th>78</th>\n",
       "      <td>1.015</td>\n",
       "      <td>6.03</td>\n",
       "      <td>416</td>\n",
       "      <td>12.8</td>\n",
       "      <td>178</td>\n",
       "      <td>9.39</td>\n",
       "      <td>1</td>\n",
       "    </tr>\n",
       "  </tbody>\n",
       "</table>\n",
       "<p>79 rows × 7 columns</p>\n",
       "</div>"
      ],
      "text/plain": [
       "    gravity    ph  osmo  cond  urea   calc  target\n",
       "0     1.021  4.91   725  14.0   443   2.45       0\n",
       "1     1.017  5.74   577  20.0   296   4.49       0\n",
       "2     1.008  7.20   321  14.9   101   2.36       0\n",
       "3     1.011  5.51   408  12.6   224   2.15       0\n",
       "4     1.005  6.52   187   7.5    91   1.16       0\n",
       "..      ...   ...   ...   ...   ...    ...     ...\n",
       "74    1.025  7.90   721  23.6   301   9.04       1\n",
       "75    1.017  4.81   410  13.3   195   0.58       1\n",
       "76    1.024  5.40   803  21.8   394   7.82       1\n",
       "77    1.016  6.81   594  21.4   255  12.20       1\n",
       "78    1.015  6.03   416  12.8   178   9.39       1\n",
       "\n",
       "[79 rows x 7 columns]"
      ]
     },
     "execution_count": 69,
     "metadata": {},
     "output_type": "execute_result"
    }
   ],
   "source": [
    "\n",
    "df = pd.read_csv('kindey_stone_urine_analysis.csv')\n",
    "df\n"
   ]
  },
  {
   "cell_type": "code",
   "execution_count": 70,
   "id": "c0e00b12-fd10-4e42-b436-172cae3b3c28",
   "metadata": {},
   "outputs": [
    {
     "data": {
      "text/html": [
       "<div>\n",
       "<style scoped>\n",
       "    .dataframe tbody tr th:only-of-type {\n",
       "        vertical-align: middle;\n",
       "    }\n",
       "\n",
       "    .dataframe tbody tr th {\n",
       "        vertical-align: top;\n",
       "    }\n",
       "\n",
       "    .dataframe thead th {\n",
       "        text-align: right;\n",
       "    }\n",
       "</style>\n",
       "<table border=\"1\" class=\"dataframe\">\n",
       "  <thead>\n",
       "    <tr style=\"text-align: right;\">\n",
       "      <th></th>\n",
       "      <th>gravity</th>\n",
       "      <th>ph</th>\n",
       "      <th>osmo</th>\n",
       "      <th>cond</th>\n",
       "      <th>urea</th>\n",
       "      <th>calc</th>\n",
       "      <th>target</th>\n",
       "    </tr>\n",
       "  </thead>\n",
       "  <tbody>\n",
       "    <tr>\n",
       "      <th>0</th>\n",
       "      <td>1.021</td>\n",
       "      <td>4.91</td>\n",
       "      <td>725</td>\n",
       "      <td>14.0</td>\n",
       "      <td>443</td>\n",
       "      <td>2.45</td>\n",
       "      <td>0</td>\n",
       "    </tr>\n",
       "    <tr>\n",
       "      <th>1</th>\n",
       "      <td>1.017</td>\n",
       "      <td>5.74</td>\n",
       "      <td>577</td>\n",
       "      <td>20.0</td>\n",
       "      <td>296</td>\n",
       "      <td>4.49</td>\n",
       "      <td>0</td>\n",
       "    </tr>\n",
       "    <tr>\n",
       "      <th>2</th>\n",
       "      <td>1.008</td>\n",
       "      <td>7.20</td>\n",
       "      <td>321</td>\n",
       "      <td>14.9</td>\n",
       "      <td>101</td>\n",
       "      <td>2.36</td>\n",
       "      <td>0</td>\n",
       "    </tr>\n",
       "    <tr>\n",
       "      <th>3</th>\n",
       "      <td>1.011</td>\n",
       "      <td>5.51</td>\n",
       "      <td>408</td>\n",
       "      <td>12.6</td>\n",
       "      <td>224</td>\n",
       "      <td>2.15</td>\n",
       "      <td>0</td>\n",
       "    </tr>\n",
       "    <tr>\n",
       "      <th>4</th>\n",
       "      <td>1.005</td>\n",
       "      <td>6.52</td>\n",
       "      <td>187</td>\n",
       "      <td>7.5</td>\n",
       "      <td>91</td>\n",
       "      <td>1.16</td>\n",
       "      <td>0</td>\n",
       "    </tr>\n",
       "    <tr>\n",
       "      <th>5</th>\n",
       "      <td>1.020</td>\n",
       "      <td>5.27</td>\n",
       "      <td>668</td>\n",
       "      <td>25.3</td>\n",
       "      <td>252</td>\n",
       "      <td>3.34</td>\n",
       "      <td>0</td>\n",
       "    </tr>\n",
       "    <tr>\n",
       "      <th>6</th>\n",
       "      <td>1.012</td>\n",
       "      <td>5.62</td>\n",
       "      <td>461</td>\n",
       "      <td>17.4</td>\n",
       "      <td>195</td>\n",
       "      <td>1.40</td>\n",
       "      <td>0</td>\n",
       "    </tr>\n",
       "    <tr>\n",
       "      <th>7</th>\n",
       "      <td>1.029</td>\n",
       "      <td>5.67</td>\n",
       "      <td>1107</td>\n",
       "      <td>35.9</td>\n",
       "      <td>550</td>\n",
       "      <td>8.48</td>\n",
       "      <td>0</td>\n",
       "    </tr>\n",
       "    <tr>\n",
       "      <th>8</th>\n",
       "      <td>1.015</td>\n",
       "      <td>5.41</td>\n",
       "      <td>543</td>\n",
       "      <td>21.9</td>\n",
       "      <td>170</td>\n",
       "      <td>1.16</td>\n",
       "      <td>0</td>\n",
       "    </tr>\n",
       "    <tr>\n",
       "      <th>9</th>\n",
       "      <td>1.021</td>\n",
       "      <td>6.13</td>\n",
       "      <td>779</td>\n",
       "      <td>25.7</td>\n",
       "      <td>382</td>\n",
       "      <td>2.21</td>\n",
       "      <td>0</td>\n",
       "    </tr>\n",
       "  </tbody>\n",
       "</table>\n",
       "</div>"
      ],
      "text/plain": [
       "   gravity    ph  osmo  cond  urea  calc  target\n",
       "0    1.021  4.91   725  14.0   443  2.45       0\n",
       "1    1.017  5.74   577  20.0   296  4.49       0\n",
       "2    1.008  7.20   321  14.9   101  2.36       0\n",
       "3    1.011  5.51   408  12.6   224  2.15       0\n",
       "4    1.005  6.52   187   7.5    91  1.16       0\n",
       "5    1.020  5.27   668  25.3   252  3.34       0\n",
       "6    1.012  5.62   461  17.4   195  1.40       0\n",
       "7    1.029  5.67  1107  35.9   550  8.48       0\n",
       "8    1.015  5.41   543  21.9   170  1.16       0\n",
       "9    1.021  6.13   779  25.7   382  2.21       0"
      ]
     },
     "execution_count": 70,
     "metadata": {},
     "output_type": "execute_result"
    }
   ],
   "source": [
    "df.head(n = 10)"
   ]
  },
  {
   "cell_type": "code",
   "execution_count": 71,
   "id": "b4ec9835-bed5-46b3-b387-9189b1ff9bde",
   "metadata": {},
   "outputs": [
    {
     "data": {
      "text/plain": [
       "(79, 7)"
      ]
     },
     "execution_count": 71,
     "metadata": {},
     "output_type": "execute_result"
    }
   ],
   "source": [
    "df.shape"
   ]
  },
  {
   "cell_type": "code",
   "execution_count": 72,
   "id": "3d308db9-ba6f-4785-a5a3-c57de8dd6c7f",
   "metadata": {},
   "outputs": [
    {
     "data": {
      "text/plain": [
       "gravity    0\n",
       "ph         0\n",
       "osmo       0\n",
       "cond       0\n",
       "urea       0\n",
       "calc       0\n",
       "target     0\n",
       "dtype: int64"
      ]
     },
     "execution_count": 72,
     "metadata": {},
     "output_type": "execute_result"
    }
   ],
   "source": [
    "#find null values in data set\n",
    "df.isnull().sum()"
   ]
  },
  {
   "cell_type": "code",
   "execution_count": 73,
   "id": "97aad3c0-c274-4a5d-b5d3-20c1be1dee1b",
   "metadata": {},
   "outputs": [
    {
     "name": "stdout",
     "output_type": "stream",
     "text": [
      "********************  gravity ******************** \n",
      "\n",
      "{1.011, 1.021, 1.008, 1.005, 1.017, 1.02, 1.012, 1.029, 1.015, 1.025, 1.013, 1.016, 1.007, 1.023, 1.01, 1.026, 1.033, 1.014, 1.027, 1.024, 1.04, 1.018, 1.031, 1.034, 1.009, 1.028, 1.006, 1.019, 1.022}\n",
      "\n",
      "********************  ph ******************** \n",
      "\n",
      "{4.91, 5.51, 5.74, 6.52, 7.2, 5.27, 5.62, 5.67, 5.41, 6.13, 6.19, 7.12, 7.38, 6.21, 6.75, 5.14, 4.9, 4.76, 5.35, 5.68, 5.98, 5.85, 5.66, 6.76, 6.4, 6.35, 6.18, 5.33, 7.92, 5.36, 5.86, 6.27, 7.01, 5.58, 7.9, 5.77, 6.79, 6.29, 5.9, 5.4, 5.09, 5.56, 5.97, 5.44, 5.94, 5.16, 5.6, 6.9, 6.28, 4.81, 6.03, 5.21, 5.53, 5.47, 5.96, 5.87, 6.81, 6.88, 6.63, 6.14, 6.3, 7.61, 6.61, 6.56, 6.37, 5.64, 5.73, 7.94, 5.24, 5.71}\n",
      "\n",
      "********************  osmo ******************** \n",
      "\n",
      "{516, 1032, 527, 531, 541, 543, 559, 565, 567, 577, 579, 594, 1107, 631, 658, 668, 680, 684, 694, 698, 187, 702, 703, 704, 721, 1236, 725, 736, 225, 749, 241, 242, 760, 251, 253, 256, 774, 775, 779, 781, 283, 803, 815, 822, 312, 321, 833, 325, 838, 840, 341, 853, 343, 854, 345, 866, 874, 876, 364, 371, 386, 907, 395, 408, 410, 416, 945, 947, 442, 443, 956, 450, 455, 456, 970, 461, 487}\n",
      "\n",
      "********************  cond ******************** \n",
      "\n",
      "{26.0, 5.1, 7.5, 8.4, 9.9, 8.8, 11.5, 12.6, 11.3, 14.0, 14.9, 11.2, 17.4, 17.9, 15.5, 20.0, 21.9, 15.8, 23.6, 24.5, 25.3, 26.1, 25.7, 28.4, 29.9, 30.1, 29.0, 32.6, 33.8, 25.8, 35.9, 35.8, 29.5, 38.0, 31.2, 33.6, 8.1, 27.0, 29.1, 9.8, 10.9, 12.2, 12.4, 12.8, 13.4, 13.3, 14.6, 14.3, 27.3, 14.8, 17.7, 17.8, 27.9, 19.5, 19.7, 19.8, 20.9, 20.6, 20.8, 21.4, 21.8, 22.2, 23.3, 27.6}\n",
      "\n",
      "********************  urea ******************** \n",
      "\n",
      "{385, 130, 260, 133, 516, 10, 395, 396, 141, 270, 398, 272, 394, 147, 152, 282, 284, 159, 161, 418, 164, 550, 422, 296, 297, 170, 301, 302, 430, 178, 308, 311, 184, 443, 187, 317, 188, 448, 64, 195, 325, 197, 199, 72, 198, 330, 75, 457, 212, 214, 87, 473, 91, 349, 95, 224, 97, 354, 101, 486, 104, 360, 362, 364, 620, 239, 124, 380, 126, 252, 125, 382, 255}\n",
      "\n",
      "********************  calc ******************** \n",
      "\n",
      "{0.81, 1.16, 2.15, 2.45, 2.36, 4.49, 3.34, 1.4, 8.48, 2.21, 1.93, 5.09, 7.68, 5.16, 2.17, 2.66, 13.0, 14.34, 2.5, 3.01, 2.33, 4.74, 4.18, 3.16, 0.58, 5.67, 6.99, 0.77, 0.27, 7.18, 7.82, 1.27, 1.52, 1.02, 1.19, 8.28, 2.03, 8.94, 8.53, 9.04, 9.39, 3.93, 3.53, 3.1, 1.03, 1.53, 1.45, 12.68, 12.2, 0.17, 3.04, 3.46, 3.3, 4.54, 1.47, 1.05, 1.55, 1.22, 5.38, 5.64, 5.54, 4.45, 6.96, 6.19, 6.81, 6.63, 7.31, 7.64, 1.06, 0.65, 2.64, 2.31, 3.98, 1.32, 0.83}\n",
      "\n",
      "********************  target ******************** \n",
      "\n",
      "{0, 1}\n",
      "\n"
     ]
    }
   ],
   "source": [
    "# To find unique values in the columns to see if there is anything wrong in numbers:\n",
    "# set keeps only the unique values\n",
    "# tolist convert a column or a dataframe object into a list\n",
    "\n",
    "for i in df.columns:\n",
    "    print(\"******************** \", i, \"******************** \")\n",
    "    print()\n",
    "    print(set(df[i].tolist()))\n",
    "    print()\n",
    "         \n",
    "\n"
   ]
  },
  {
   "cell_type": "code",
   "execution_count": null,
   "id": "fe4a7186-9f9f-45b8-a093-715b901fd7e0",
   "metadata": {},
   "outputs": [],
   "source": [
    "#temp=df[\"target\"].value_counts()\n",
    "#temp_df=pd.DataFrame({'traget' : temp.index, 'values' : temp.values})\n",
    "#print(sns.barplot(x = 'target', y = 'values', data=temp_df))"
   ]
  },
  {
   "cell_type": "markdown",
   "id": "9583d233-934a-42d9-a715-bf4055190153",
   "metadata": {},
   "source": [
    "## Statistial Aspects of Data"
   ]
  },
  {
   "cell_type": "markdown",
   "id": "e53b7875-b4fc-439c-8a5d-d86e4d8b74ac",
   "metadata": {},
   "source": [
    "#### We want to see what kind of the correlations exist between independent attributes of data."
   ]
  },
  {
   "cell_type": "code",
   "execution_count": 74,
   "id": "82c03948-2b60-4f3c-85e6-63eac60ab656",
   "metadata": {},
   "outputs": [
    {
     "data": {
      "text/plain": [
       "<seaborn.axisgrid.PairGrid at 0x7f7add839850>"
      ]
     },
     "execution_count": 74,
     "metadata": {},
     "output_type": "execute_result"
    },
    {
     "data": {
      "image/png": "[encoded data removed]",
      "text/plain": [
       "<Figure size 1260x1260 with 56 Axes>"
      ]
     },
     "metadata": {
      "needs_background": "light"
     },
     "output_type": "display_data"
    }
   ],
   "source": [
    "# this shows what kind of distribution out data set has\n",
    "\n",
    "sns.pairplot(df)"
   ]
  },
  {
   "cell_type": "markdown",
   "id": "4198ad75-baad-4c09-a430-78bfcfe9deec",
   "metadata": {},
   "source": [
    "We want to find the distribution of the data:"
   ]
  },
  {
   "cell_type": "markdown",
   "id": "f73551f9-ad30-4450-ab15-17c33b088691",
   "metadata": {},
   "source": [
    "## Dataframe statistics\n"
   ]
  },
  {
   "cell_type": "code",
   "execution_count": 75,
   "id": "dce0fad8-0716-491f-9e6c-f75fb9b3377e",
   "metadata": {},
   "outputs": [
    {
     "data": {
      "text/html": [
       "<div>\n",
       "<style scoped>\n",
       "    .dataframe tbody tr th:only-of-type {\n",
       "        vertical-align: middle;\n",
       "    }\n",
       "\n",
       "    .dataframe tbody tr th {\n",
       "        vertical-align: top;\n",
       "    }\n",
       "\n",
       "    .dataframe thead th {\n",
       "        text-align: right;\n",
       "    }\n",
       "</style>\n",
       "<table border=\"1\" class=\"dataframe\">\n",
       "  <thead>\n",
       "    <tr style=\"text-align: right;\">\n",
       "      <th></th>\n",
       "      <th>count</th>\n",
       "      <th>mean</th>\n",
       "      <th>std</th>\n",
       "      <th>min</th>\n",
       "      <th>25%</th>\n",
       "      <th>50%</th>\n",
       "      <th>75%</th>\n",
       "      <th>max</th>\n",
       "    </tr>\n",
       "  </thead>\n",
       "  <tbody>\n",
       "    <tr>\n",
       "      <th>gravity</th>\n",
       "      <td>79.0</td>\n",
       "      <td>1.018114</td>\n",
       "      <td>0.007239</td>\n",
       "      <td>1.005</td>\n",
       "      <td>1.012</td>\n",
       "      <td>1.018</td>\n",
       "      <td>1.0235</td>\n",
       "      <td>1.04</td>\n",
       "    </tr>\n",
       "    <tr>\n",
       "      <th>ph</th>\n",
       "      <td>79.0</td>\n",
       "      <td>6.028481</td>\n",
       "      <td>0.724307</td>\n",
       "      <td>4.760</td>\n",
       "      <td>5.530</td>\n",
       "      <td>5.940</td>\n",
       "      <td>6.3850</td>\n",
       "      <td>7.94</td>\n",
       "    </tr>\n",
       "    <tr>\n",
       "      <th>osmo</th>\n",
       "      <td>79.0</td>\n",
       "      <td>612.848101</td>\n",
       "      <td>237.514755</td>\n",
       "      <td>187.000</td>\n",
       "      <td>413.000</td>\n",
       "      <td>594.000</td>\n",
       "      <td>792.0000</td>\n",
       "      <td>1236.00</td>\n",
       "    </tr>\n",
       "    <tr>\n",
       "      <th>cond</th>\n",
       "      <td>79.0</td>\n",
       "      <td>20.813924</td>\n",
       "      <td>7.938994</td>\n",
       "      <td>5.100</td>\n",
       "      <td>14.150</td>\n",
       "      <td>21.400</td>\n",
       "      <td>26.5500</td>\n",
       "      <td>38.00</td>\n",
       "    </tr>\n",
       "    <tr>\n",
       "      <th>urea</th>\n",
       "      <td>79.0</td>\n",
       "      <td>266.405063</td>\n",
       "      <td>131.254550</td>\n",
       "      <td>10.000</td>\n",
       "      <td>160.000</td>\n",
       "      <td>260.000</td>\n",
       "      <td>372.0000</td>\n",
       "      <td>620.00</td>\n",
       "    </tr>\n",
       "    <tr>\n",
       "      <th>calc</th>\n",
       "      <td>79.0</td>\n",
       "      <td>4.138987</td>\n",
       "      <td>3.260051</td>\n",
       "      <td>0.170</td>\n",
       "      <td>1.460</td>\n",
       "      <td>3.160</td>\n",
       "      <td>5.9300</td>\n",
       "      <td>14.34</td>\n",
       "    </tr>\n",
       "    <tr>\n",
       "      <th>target</th>\n",
       "      <td>79.0</td>\n",
       "      <td>0.430380</td>\n",
       "      <td>0.498293</td>\n",
       "      <td>0.000</td>\n",
       "      <td>0.000</td>\n",
       "      <td>0.000</td>\n",
       "      <td>1.0000</td>\n",
       "      <td>1.00</td>\n",
       "    </tr>\n",
       "  </tbody>\n",
       "</table>\n",
       "</div>"
      ],
      "text/plain": [
       "         count        mean         std      min      25%      50%       75%  \\\n",
       "gravity   79.0    1.018114    0.007239    1.005    1.012    1.018    1.0235   \n",
       "ph        79.0    6.028481    0.724307    4.760    5.530    5.940    6.3850   \n",
       "osmo      79.0  612.848101  237.514755  187.000  413.000  594.000  792.0000   \n",
       "cond      79.0   20.813924    7.938994    5.100   14.150   21.400   26.5500   \n",
       "urea      79.0  266.405063  131.254550   10.000  160.000  260.000  372.0000   \n",
       "calc      79.0    4.138987    3.260051    0.170    1.460    3.160    5.9300   \n",
       "target    79.0    0.430380    0.498293    0.000    0.000    0.000    1.0000   \n",
       "\n",
       "             max  \n",
       "gravity     1.04  \n",
       "ph          7.94  \n",
       "osmo     1236.00  \n",
       "cond       38.00  \n",
       "urea      620.00  \n",
       "calc       14.34  \n",
       "target      1.00  "
      ]
     },
     "metadata": {},
     "output_type": "display_data"
    }
   ],
   "source": [
    "display(df.describe().T)"
   ]
  },
  {
   "cell_type": "code",
   "execution_count": 76,
   "id": "4a88684d-d924-4bd9-b1ba-c98e3a845f7b",
   "metadata": {
    "tags": []
   },
   "outputs": [
    {
     "name": "stdout",
     "output_type": "stream",
     "text": [
      "    gravity    ph  osmo  cond  urea   calc\n",
      "0     1.021  4.91   725  14.0   443   2.45\n",
      "1     1.017  5.74   577  20.0   296   4.49\n",
      "2     1.008  7.20   321  14.9   101   2.36\n",
      "3     1.011  5.51   408  12.6   224   2.15\n",
      "4     1.005  6.52   187   7.5    91   1.16\n",
      "..      ...   ...   ...   ...   ...    ...\n",
      "74    1.025  7.90   721  23.6   301   9.04\n",
      "75    1.017  4.81   410  13.3   195   0.58\n",
      "76    1.024  5.40   803  21.8   394   7.82\n",
      "77    1.016  6.81   594  21.4   255  12.20\n",
      "78    1.015  6.03   416  12.8   178   9.39\n",
      "\n",
      "[79 rows x 6 columns]\n",
      "0     0\n",
      "1     0\n",
      "2     0\n",
      "3     0\n",
      "4     0\n",
      "     ..\n",
      "74    1\n",
      "75    1\n",
      "76    1\n",
      "77    1\n",
      "78    1\n",
      "Name: target, Length: 79, dtype: int64\n"
     ]
    }
   ],
   "source": [
    "#drop the  rows with na or missing values\n",
    "df=df.dropna(axis=0)\n",
    "#splitting the data into independent (X) data set(the features) and dependent (y) data set(the target)\n",
    "X=df.drop(['target'],axis=1)   #removes the target datapoint without storing in X i.e. the features\n",
    "y=df['target']    #stores only the target datapoint in y \n",
    "print(X)\n",
    "print(y)"
   ]
  },
  {
   "cell_type": "code",
   "execution_count": 77,
   "id": "7d59eb05-c347-45b8-806d-9c362dd9e15e",
   "metadata": {
    "tags": []
   },
   "outputs": [
    {
     "name": "stdout",
     "output_type": "stream",
     "text": [
      "     gravity        ph      osmo      cond      urea      calc\n",
      "0   0.457143  0.047170  0.512869  0.270517  0.709836  0.160903\n",
      "1   0.342857  0.308176  0.371783  0.452888  0.468852  0.304869\n",
      "2   0.085714  0.767296  0.127741  0.297872  0.149180  0.154552\n",
      "3   0.171429  0.235849  0.210677  0.227964  0.350820  0.139732\n",
      "4   0.000000  0.553459  0.000000  0.072948  0.132787  0.069866\n",
      "..       ...       ...       ...       ...       ...       ...\n",
      "74  0.571429  0.987421  0.509056  0.562310  0.477049  0.625970\n",
      "75  0.342857  0.015723  0.212583  0.249240  0.303279  0.028934\n",
      "76  0.542857  0.201258  0.587226  0.507599  0.629508  0.539873\n",
      "77  0.314286  0.644654  0.387989  0.495441  0.401639  0.848977\n",
      "78  0.285714  0.399371  0.218303  0.234043  0.275410  0.650670\n",
      "\n",
      "[79 rows x 6 columns]\n"
     ]
    }
   ],
   "source": [
    "#Feature scaling\n",
    "#min-max scaler function scales the data so that all the input features lie between 0s and 1s\n",
    "x_scaler=MinMaxScaler()\n",
    "x_scaler.fit(X)\n",
    "column_names=X.columns\n",
    "X[column_names]=x_scaler.transform(X)\n",
    "print(X[column_names])  "
   ]
  },
  {
   "cell_type": "markdown",
   "id": "ce259f88-42cf-458e-a194-bba2caaa9f06",
   "metadata": {},
   "source": [
    "## Correlation Between Independent Variables"
   ]
  },
  {
   "cell_type": "markdown",
   "id": "ad42eeec-444c-4066-b7a8-2572a01b9759",
   "metadata": {},
   "source": [
    "Finding correlations between independent variables is very important. Because if there is correlations between variables the value of the weight will be altered and we will not have correct output."
   ]
  },
  {
   "cell_type": "markdown",
   "id": "a0826896-e9b7-4dbe-96e1-08c8e22b3be4",
   "metadata": {},
   "source": [
    "As you can see in the scale (right side of the plot), the lighter is the color, the correlation is bigger."
   ]
  },
  {
   "cell_type": "code",
   "execution_count": 205,
   "id": "e3e81965-dda7-4884-bad0-7f2d9468466d",
   "metadata": {},
   "outputs": [
    {
     "data": {
      "text/plain": [
       "<AxesSubplot:>"
      ]
     },
     "execution_count": 205,
     "metadata": {},
     "output_type": "execute_result"
    },
    {
     "data": {
      "image/png": "[encoded data removed]",
      "text/plain": [
       "<Figure size 432x288 with 2 Axes>"
      ]
     },
     "metadata": {
      "needs_background": "light"
     },
     "output_type": "display_data"
    }
   ],
   "source": [
    "# plot the correlation between variables by using the corr function\n",
    "# correlation between two independent would be a problem, \n",
    "#but correlation between one dependent and one independent variation won't be a problem\n",
    "# the lighter the color, the higher correlation\n",
    "\n",
    "corr = df.corr() \n",
    "corr.style.background_gradient(cmap='coolwarm')\n",
    "sns.heatmap(corr, annot=True)\n"
   ]
  },
  {
   "cell_type": "markdown",
   "id": "6271ee08-ad50-4d8b-bf3b-721dcf884c27",
   "metadata": {},
   "source": [
    "### Seperate dependent and independent variables:"
   ]
  },
  {
   "cell_type": "code",
   "execution_count": 79,
   "id": "50f697a0-afb8-480a-8bb3-f5171c127cba",
   "metadata": {},
   "outputs": [],
   "source": [
    "# make some final changes to the data\n",
    "# seperate independent and dependent variables \n",
    "\n",
    "x = df.drop([\"target\"], axis=1) # every other variable rather than target is independent\n",
    "y = df[\"target\"] # this is dependent variable\n",
    "\n"
   ]
  },
  {
   "cell_type": "code",
   "execution_count": 80,
   "id": "d9a47ef4-884d-48ae-99d2-4d3527e6597c",
   "metadata": {},
   "outputs": [
    {
     "name": "stdout",
     "output_type": "stream",
     "text": [
      "Counter({0: 45, 1: 34})\n"
     ]
    }
   ],
   "source": [
    "# check the lable balance\n",
    "# library Counter show us to see how many occurances of the same value is there\n",
    "\n",
    "from imblearn.over_sampling import RandomOverSampler\n",
    "from imblearn.under_sampling import RandomUnderSampler\n",
    "from collections import Counter\n",
    "print(Counter(y))"
   ]
  },
  {
   "cell_type": "code",
   "execution_count": 81,
   "id": "4a96d290-2d2f-44d2-a57e-6194cc52e603",
   "metadata": {},
   "outputs": [
    {
     "name": "stdout",
     "output_type": "stream",
     "text": [
      "Counter({0: 45, 1: 45})\n"
     ]
    }
   ],
   "source": [
    "# balance the lables\n",
    "# Oversampling technique: if the number of samples of the particular lable is less, we use the algorithms like nearest neighbor. we creat more of the lables.\n",
    "# Undersampling : if the number of samples of the particular lable is more, we reduce the number of lables. \n",
    "# and we fitting the data\n",
    "\n",
    "ros = RandomOverSampler()\n",
    "\n",
    "x_ros, y_ros = ros.fit_resample(x, y)\n",
    "print(Counter(y_ros))"
   ]
  },
  {
   "cell_type": "markdown",
   "id": "a89830eb-779c-472d-9f53-176bda498941",
   "metadata": {},
   "source": [
    "#### Initialize MinMaxScaler and scale the features between -1 and 1 and normalize them.\n",
    "#### MinMaxScaler transforms features by scaling them to a given range.\n",
    "#### The fit_transform() method fits to the data and then transforms it. We don't need to scale the labels. "
   ]
  },
  {
   "cell_type": "code",
   "execution_count": 83,
   "id": "b3c785b3-9a32-4d42-820a-d2be4c78370d",
   "metadata": {},
   "outputs": [],
   "source": [
    "# scaling, we make sure all the values are in the range of -1 and 1\n",
    "# initilize MinMaxScaler to scale the features\n",
    "# the fit_transform() fits to the data and then transforms it. we don't need to scale the lables. \n",
    "\n",
    "scaler = MinMaxScaler((-1, 1))\n",
    "x=scaler.fit_transform(x_ros)\n",
    "y=y_ros"
   ]
  },
  {
   "cell_type": "markdown",
   "id": "7a2d7be2-893d-4237-b20d-3d11365e2eae",
   "metadata": {},
   "source": [
    "## Feature Extraction (Reduce the dimentionality of variables)"
   ]
  },
  {
   "cell_type": "code",
   "execution_count": 84,
   "id": "106f7960-89cd-43cc-8bb5-a671fa3b5db2",
   "metadata": {},
   "outputs": [
    {
     "data": {
      "text/html": [
       "        <script type=\"text/javascript\">\n",
       "        window.PlotlyConfig = {MathJaxConfig: 'local'};\n",
       "        if (window.MathJax) {MathJax.Hub.Config({SVG: {font: \"STIX-Web\"}});}\n",
       "        if (typeof require !== 'undefined') {\n",
       "        require.undef(\"plotly\");\n",
       "        requirejs.config({\n",
       "            paths: {\n",
       "                'plotly': ['https://cdn.plot.ly/plotly-2.9.0.min']\n",
       "            }\n",
       "        });\n",
       "        require(['plotly'], function(Plotly) {\n",
       "            window._Plotly = Plotly;\n",
       "        });\n",
       "        }\n",
       "        </script>\n",
       "        "
      ]
     },
     "metadata": {},
     "output_type": "display_data"
    },
    {
     "name": "stdout",
     "output_type": "stream",
     "text": [
      "(90, 6)\n",
      "(90, 4)\n"
     ]
    }
   ],
   "source": [
    "# Applying PCA\n",
    "\n",
    "# The code between has .95 for the number of components parameter.\n",
    "# It means that scikit-learn choose the minimum number of principal componenets such that 95% of variants is retained. \n",
    "\n",
    "import plotly.offline as py\n",
    "py.init_notebook_mode(connected=True)\n",
    "import plotly.graph_objs as go\n",
    "from sklearn.decomposition import PCA\n",
    "\n",
    "pca = PCA(.95)\n",
    "x_PCA= pca.fit_transform(x)\n",
    "\n",
    "print(x.shape)\n",
    "print(x_PCA.shape)\n",
    "\n",
    "# Thus we need 4 columns to keep  95% of variance."
   ]
  },
  {
   "cell_type": "markdown",
   "id": "1f8fb405-a4ac-4fe9-9b7b-ba720d66cf96",
   "metadata": {},
   "source": [
    "## Spliting the Dataset Into Training and Testing"
   ]
  },
  {
   "cell_type": "markdown",
   "id": "934e127f-ba98-4476-8f6e-31bbd2c0f9e2",
   "metadata": {},
   "source": [
    "To test the dataset we create four variables for train and then test the created function. We chose the test size 20 percent. "
   ]
  },
  {
   "cell_type": "code",
   "execution_count": 85,
   "id": "1bcc4995-784d-4396-b84b-2fb0a16a8d93",
   "metadata": {},
   "outputs": [],
   "source": [
    "# with PCA\n",
    "# we split the dataset into training and testing sets, keeping 20% of the data for testing.\n",
    "# this is required because we want to keep some of the unseen data to understand how the model works.\n",
    "\n",
    "from sklearn.model_selection import train_test_split\n",
    "\n",
    "x_train, x_test, y_train, y_test= train_test_split(x_PCA, y, test_size=0.2, random_state=7) # 0.2 means 80% training and 20% test"
   ]
  },
  {
   "cell_type": "markdown",
   "id": "cfd1087a-ec85-4838-baae-40058ab3f57f",
   "metadata": {},
   "source": [
    "## Modelling"
   ]
  },
  {
   "cell_type": "code",
   "execution_count": 190,
   "id": "f8682461-0cb8-487c-96a9-67ed42dc2f38",
   "metadata": {
    "tags": []
   },
   "outputs": [],
   "source": [
    "# create the model\n",
    "# we need to import keras library and from that Dense to connect neural network layers.\n",
    "# we use Sequential model which is appropriate for stack of layers where each layer has exactly one input and one output.\n",
    "# DropOut randomly set the input units in 0. DropOut largly helps to avoid overfit.\n",
    "\n",
    "\n",
    "def model():\n",
    "    \n",
    "    classifier = Sequential()\n",
    "    classifier.add(Dense(4, input_shape = (x_train.shape[1],), activation= 'relu')) # relu (activation function) gives us only positive outputs.\n",
    "    classifier.add(Dropout(0.2)) \n",
    "    classifier.add(Dense(3, activation = 'relu'))\n",
    "    classifier.add(Dropout(0.4)) # we are getting 60 percent of DropOut of this particular layer\n",
    "    classifier.add(Dense(1, activation = 'sigmoid')) # this is a binary classification, so the final Dense should be 1. it means we will get eather 1 or 0 as output.\n",
    "    classifier.compile(optimizer = 'adam', loss = 'binary_crossentropy', metrics = ['accuracy']) # compiling the model. setting the optimizer as adam. \n",
    "    \n",
    "    return classifier"
   ]
  },
  {
   "cell_type": "code",
   "execution_count": 191,
   "id": "06695958-000b-4791-9e37-45f810585377",
   "metadata": {},
   "outputs": [
    {
     "data": {
      "text/plain": [
       "4"
      ]
     },
     "execution_count": 191,
     "metadata": {},
     "output_type": "execute_result"
    }
   ],
   "source": [
    "x_train.shape[1]"
   ]
  },
  {
   "cell_type": "code",
   "execution_count": 192,
   "id": "9bea0e84-45fd-40c0-a7bd-aa6faade7188",
   "metadata": {},
   "outputs": [
    {
     "data": {
      "text/plain": [
       "20"
      ]
     },
     "execution_count": 192,
     "metadata": {},
     "output_type": "execute_result"
    }
   ],
   "source": [
    "(x_train.shape[1]+1)*4"
   ]
  },
  {
   "cell_type": "code",
   "execution_count": 193,
   "id": "734eaaf2-b750-43c3-8dda-79e55da5b59d",
   "metadata": {
    "tags": []
   },
   "outputs": [
    {
     "name": "stdout",
     "output_type": "stream",
     "text": [
      "Model: \"sequential_13\"\n",
      "_________________________________________________________________\n",
      " Layer (type)                Output Shape              Param #   \n",
      "=================================================================\n",
      " dense_30 (Dense)            (None, 4)                 20        \n",
      "                                                                 \n",
      " dropout_20 (Dropout)        (None, 4)                 0         \n",
      "                                                                 \n",
      " dense_31 (Dense)            (None, 3)                 15        \n",
      "                                                                 \n",
      " dropout_21 (Dropout)        (None, 3)                 0         \n",
      "                                                                 \n",
      " dense_32 (Dense)            (None, 1)                 4         \n",
      "                                                                 \n",
      "=================================================================\n",
      "Total params: 39\n",
      "Trainable params: 39\n",
      "Non-trainable params: 0\n",
      "_________________________________________________________________\n"
     ]
    }
   ],
   "source": [
    "model = model()\n",
    "model.summary()\n",
    "# Param shows how many parameters we are actually training"
   ]
  },
  {
   "cell_type": "code",
   "execution_count": 194,
   "id": "3830bb55-cf04-4b6c-bd2f-a81c1200b6ec",
   "metadata": {},
   "outputs": [
    {
     "name": "stdout",
     "output_type": "stream",
     "text": [
      "Epoch 1/5\n",
      "3/3 [==============================] - 5s 115ms/step - loss: 0.6926 - accuracy: 0.5972 - val_loss: 0.6927 - val_accuracy: 0.4444\n",
      "Epoch 2/5\n",
      "3/3 [==============================] - 0s 43ms/step - loss: 0.6918 - accuracy: 0.6389 - val_loss: 0.6931 - val_accuracy: 0.4444\n",
      "Epoch 3/5\n",
      "3/3 [==============================] - 0s 25ms/step - loss: 0.6922 - accuracy: 0.5972 - val_loss: 0.6934 - val_accuracy: 0.4444\n",
      "Epoch 4/5\n",
      "3/3 [==============================] - 0s 26ms/step - loss: 0.6915 - accuracy: 0.6389 - val_loss: 0.6937 - val_accuracy: 0.4444\n",
      "Epoch 5/5\n",
      "3/3 [==============================] - 0s 22ms/step - loss: 0.6926 - accuracy: 0.5694 - val_loss: 0.6940 - val_accuracy: 0.4444\n"
     ]
    }
   ],
   "source": [
    "# fitting the training data\n",
    "#it would train with the training data and then test with the testing data to calculate the accuracy of the values\n",
    "#otherwise we don't see the outcome\n",
    "\n",
    "history = model.fit(x_train, y_train, validation_data = (x_test, y_test), epochs = 5, verbose = 1) # epochs can be any number, verbose should be 1 \n",
    "\n",
    "# this model is probably overfitting because the accuracy is increasing but the val_accuracy is decreasing. so there is higher variance in the model "
   ]
  },
  {
   "cell_type": "markdown",
   "id": "3d7b3b4e-8e1c-45bb-acae-679bba3f4c73",
   "metadata": {},
   "source": [
    "## Observation"
   ]
  },
  {
   "cell_type": "markdown",
   "id": "b55cce9e-fb4d-4103-9f85-150aa10ea3b6",
   "metadata": {},
   "source": [
    "##### This model is probably overfitting because the accuracy is increasing but the val_accuracy is decreasing. \n",
    "##### So there is probably higher variance in the model. \n",
    "##### We changed the model for plotting."
   ]
  },
  {
   "cell_type": "markdown",
   "id": "978632a5-422b-4a05-bb98-0b3c8427c82a",
   "metadata": {},
   "source": [
    "## Logistic Regression"
   ]
  },
  {
   "cell_type": "code",
   "execution_count": 197,
   "id": "a304b79e-4be3-447d-aa9e-7651cb25c853",
   "metadata": {},
   "outputs": [],
   "source": [
    "logreg = LogisticRegression()"
   ]
  },
  {
   "cell_type": "code",
   "execution_count": 198,
   "id": "4ffc8754-0022-4f54-9f21-26a6224173b3",
   "metadata": {},
   "outputs": [
    {
     "data": {
      "text/plain": [
       "LogisticRegression()"
      ]
     },
     "execution_count": 198,
     "metadata": {},
     "output_type": "execute_result"
    }
   ],
   "source": [
    "logreg.fit(x_train,y_train)"
   ]
  },
  {
   "cell_type": "code",
   "execution_count": 200,
   "id": "f45a76dc-962b-4862-a314-d518afd96849",
   "metadata": {},
   "outputs": [],
   "source": [
    "y_pred=logreg.predict(x_test)"
   ]
  },
  {
   "cell_type": "code",
   "execution_count": 201,
   "id": "236fd32d-7839-48b0-bc67-21d8b93c1c7b",
   "metadata": {},
   "outputs": [
    {
     "data": {
      "text/plain": [
       "array([[10,  3],\n",
       "       [ 2,  3]])"
      ]
     },
     "execution_count": 201,
     "metadata": {},
     "output_type": "execute_result"
    }
   ],
   "source": [
    "from sklearn import metrics\n",
    "\n",
    "cnf_matrix = metrics.confusion_matrix(y_test, y_pred)\n",
    "cnf_matrix"
   ]
  },
  {
   "cell_type": "code",
   "execution_count": 202,
   "id": "a4c69fd2-7ad6-43be-b853-6144a01045bf",
   "metadata": {},
   "outputs": [
    {
     "data": {
      "text/plain": [
       "Text(0.5, 257.44, 'Predicted label')"
      ]
     },
     "execution_count": 202,
     "metadata": {},
     "output_type": "execute_result"
    },
    {
     "data": {
      "image/png": "[encoded data removed]",
      "text/plain": [
       "<Figure size 432x288 with 2 Axes>"
      ]
     },
     "metadata": {
      "needs_background": "light"
     },
     "output_type": "display_data"
    }
   ],
   "source": [
    "class_name=[0,1] # name  of classes\n",
    "fig, ax = plt.subplots()\n",
    "tick_marks = np.arange(len(class_name))\n",
    "plt.xticks(tick_marks, class_name)\n",
    "plt.yticks(tick_marks, class_name)\n",
    "# create heatmap\n",
    "sns.heatmap(pd.DataFrame(cnf_matrix), annot=True, cmap=\"YlGnBu\" ,fmt='g')\n",
    "ax.xaxis.set_label_position(\"top\")\n",
    "plt.tight_layout()\n",
    "plt.title('Confusion matrix', y=1.1)\n",
    "plt.ylabel('Actual label')\n",
    "plt.xlabel('Predicted label')"
   ]
  },
  {
   "cell_type": "code",
   "execution_count": 203,
   "id": "b9b81557-7850-48c8-b083-256ceda544e2",
   "metadata": {},
   "outputs": [
    {
     "name": "stdout",
     "output_type": "stream",
     "text": [
      "Accuracy: 0.7222222222222222\n",
      "Precision: 0.5\n",
      "Recall: 0.6\n"
     ]
    }
   ],
   "source": [
    "print(\"Accuracy:\",metrics.accuracy_score(y_test, y_pred))\n",
    "print(\"Precision:\",metrics.precision_score(y_test, y_pred))\n",
    "print(\"Recall:\",metrics.recall_score(y_test, y_pred))"
   ]
  },
  {
   "cell_type": "code",
   "execution_count": 204,
   "id": "db99930e-6f25-4c0e-9fb9-4e5d23e0021f",
   "metadata": {},
   "outputs": [
    {
     "data": {
      "image/png": "[encoded data removed]",
      "text/plain": [
       "<Figure size 432x288 with 1 Axes>"
      ]
     },
     "metadata": {
      "needs_background": "light"
     },
     "output_type": "display_data"
    }
   ],
   "source": [
    "y_pred_proba = logreg.predict_proba(x_test)[::,1]\n",
    "fpr, tpr, _ = metrics.roc_curve(y_test, y_pred_proba)\n",
    "auc = metrics.roc_auc_score(y_test, y_pred_proba)\n",
    "plt.plot(fpr,tpr,label=\"data 1, auc=\"+str(auc))\n",
    "plt.legend(loc=4)\n",
    "plt.show()"
   ]
  },
  {
   "cell_type": "markdown",
   "id": "9fc05467-09e8-4820-ab57-f16c2f81c6d8",
   "metadata": {},
   "source": [
    "## Conclusion"
   ]
  },
  {
   "cell_type": "markdown",
   "id": "3c265a06-a33a-4668-84c8-6ef96e5d7e21",
   "metadata": {},
   "source": [
    "This model is not accurate enough for the medical field. It's prefred to have 0.9 accuracy for pharmasutical or medical field because it is all about the patient's health. In this case shows the model is probably overfitting and a new model should be adopted."
   ]
  }
 ],
 "metadata": {
  "kernelspec": {
   "display_name": "Python 3 (ipykernel)",
   "language": "python",
   "name": "python3"
  },
  "language_info": {
   "codemirror_mode": {
    "name": "ipython",
    "version": 3
   },
   "file_extension": ".py",
   "mimetype": "text/x-python",
   "name": "python",
   "nbconvert_exporter": "python",
   "pygments_lexer": "ipython3",
   "version": "3.9.12"
  }
 },
 "nbformat": 4,
 "nbformat_minor": 5
}
